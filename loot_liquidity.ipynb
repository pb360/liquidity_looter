{
 "cells": [
  {
   "cell_type": "markdown",
   "id": "ce19bd2a-6375-4385-a4f5-22ee79c642bf",
   "metadata": {},
   "source": [
    "<div id='loot_liquidity_outline'> </div>\n",
    "\n",
    "\n",
    "* # outline\n",
    "    * imports\n",
    "    * setup web3 module\n",
    "    * ```LiquidityLooter``` class definition\n",
    "        * getting price\n",
    "        * compare to current pool,\n",
    "            * if more than  \n",
    "\n",
    "[back to top](#loot_liquidity_outline) "
   ]
  },
  {
   "cell_type": "markdown",
   "id": "2458dd16-31c4-4fe7-90ee-85c6ef08774f",
   "metadata": {},
   "source": [
    "# setup "
   ]
  },
  {
   "cell_type": "code",
   "execution_count": 1,
   "id": "2a975197-490f-4bee-8c62-a76bd5587e70",
   "metadata": {},
   "outputs": [],
   "source": [
    "%load_ext autoreload"
   ]
  },
  {
   "cell_type": "code",
   "execution_count": 55,
   "id": "dd9cab78-1109-4ee9-897c-0d790149bb07",
   "metadata": {},
   "outputs": [
    {
     "data": {
      "text/plain": [
       "True"
      ]
     },
     "execution_count": 55,
     "metadata": {},
     "output_type": "execute_result"
    }
   ],
   "source": [
    "%autoreload\n",
    "\n",
    "# setup for local imports \n",
    "import sys\n",
    "sys.path.insert(0, '..')\n",
    "sys.path.insert(0, '../..')\n",
    "\n",
    "# local packages\n",
    "from config import params\n",
    "from utils import ( get_secret, \n",
    "                    get_wallet_key,\n",
    "                    get_public_address,\n",
    "                    get_contract_abi,\n",
    "                    convert_asset_wei_to_human_amount,\n",
    "                    convert_asset_human_amount_to_wei,\n",
    "                    get_actual_bags_gns_weth,\n",
    "                    initialize_bags_dict,\n",
    "                    get_tick_spacing_for_fee,\n",
    "                    get_current_price_and_tick,\n",
    "                    calculate_tick_from_price,\n",
    "                    calculate_price_from_tick,\n",
    "                    get_tick_range,\n",
    "                    )\n",
    "\n",
    "# pypi package imports\n",
    "from copy import deepcopy \n",
    "import datetime\n",
    "from dotenv import load_dotenv\n",
    "from eth_account import Account\n",
    "import json\n",
    "import math\n",
    "import requests\n",
    "from web3 import Web3, EthereumTesterProvider\n",
    "\n",
    "load_dotenv() \n",
    "\n"
   ]
  },
  {
   "cell_type": "code",
   "execution_count": 3,
   "id": "780a1ea1-852e-4f9a-bd7a-d608d9da7eac",
   "metadata": {},
   "outputs": [
    {
     "name": "stdout",
     "output_type": "stream",
     "text": [
      "ABI fetched successfully.\n"
     ]
    }
   ],
   "source": [
    "params['port'] = params['operating_wallets']['GNS_ETH_2_90']\n",
    "params['arbiscan_api_key'] =  get_secret(\"ARBISCAN_API\")\n",
    "\n",
    "# ### standalone objects \n",
    "# \n",
    "# # \n",
    "# # ####\n",
    "private_key = get_wallet_key(wallet=params['port']['wallet'])  # ### this stays out of state_dict, as that may get pickled. only thing that stays out of everyting \n",
    "w3 = Web3(Web3.HTTPProvider(get_secret(\"RPC_URL\")))\n",
    "# # ### \n",
    "# # \n",
    "# \n",
    "params['port']['address'] = get_public_address(private_key)\n",
    "\n",
    "state_dict = {} \n",
    "\n",
    "state_dict['bags'] = initialize_bags_dict(public_address=params['port']['address'], base='GNS', quote='WETH', w3=w3)\n",
    "state_dict['pool'] = {'address': params['pool_addresses'][params['port']['pair']]} \n",
    "state_dict['pool']['checksum_address'] = Web3.to_checksum_address(state_dict['pool']['address'])\n",
    "\n",
    "try:\n",
    "    state_dict['pool']['abi'] = get_contract_abi(params['arbiscan_api_key'], state_dict['pool']['checksum_address'])\n",
    "    print(\"ABI fetched successfully.\")\n",
    "except Exception as e:\n",
    "    print(str(e))"
   ]
  },
  {
   "cell_type": "markdown",
   "id": "5c11f6eb-ba90-48cc-bbda-b3a3abd4eaf4",
   "metadata": {},
   "source": [
    "#### getting the public address "
   ]
  },
  {
   "cell_type": "markdown",
   "id": "ad2786a6-c7b3-4c10-becb-d32921f76a95",
   "metadata": {},
   "source": [
    "### token balances"
   ]
  },
  {
   "cell_type": "markdown",
   "id": "c831d8ad-47e2-454b-9937-371e2143bc97",
   "metadata": {},
   "source": [
    "### getting token balances (note that not making one function for both because there is an ABI issue for WETH\n",
    "* I would rather manually handle it till I am familiar with the nature of these objects and am confident that the unified function I built will do the job"
   ]
  },
  {
   "cell_type": "code",
   "execution_count": 4,
   "id": "6335ee2f-82d5-45ba-991c-9b8bef894f50",
   "metadata": {},
   "outputs": [
    {
     "data": {
      "text/plain": [
       "{'wei_format': {'base': 3000000000000000267, 'quote': 99108453379737797},\n",
       " 'human_format': {'base': 3.0000000000000004, 'quote': 0.0991084533797378}}"
      ]
     },
     "execution_count": 4,
     "metadata": {},
     "output_type": "execute_result"
    }
   ],
   "source": [
    "state_dict['bags']['actual']"
   ]
  },
  {
   "cell_type": "code",
   "execution_count": 5,
   "id": "bb5fdaf6-c68a-4919-ae26-e212a0590b5d",
   "metadata": {},
   "outputs": [
    {
     "data": {
      "text/plain": [
       "{'wei_format': 23000000000000000, 'human_format': Decimal('0.023')}"
      ]
     },
     "execution_count": 5,
     "metadata": {},
     "output_type": "execute_result"
    }
   ],
   "source": [
    "state_dict['bags']['eth']"
   ]
  },
  {
   "cell_type": "markdown",
   "id": "d3780681-4085-443b-8c29-7732d1485b89",
   "metadata": {},
   "source": [
    "# working with uniswap "
   ]
  },
  {
   "cell_type": "code",
   "execution_count": 6,
   "id": "f038d1c9-cc2c-4524-81eb-4f96348aacc7",
   "metadata": {},
   "outputs": [
    {
     "data": {
      "text/plain": [
       "'slot0 = [3682675051650787857010074191, -61377, 3046, 7200, 7200, 0, True]'"
      ]
     },
     "execution_count": 6,
     "metadata": {},
     "output_type": "execute_result"
    }
   ],
   "source": [
    "# # Convert the pool address to checksum format\n",
    "# pool_checksum_address = Web3.to_checksum_address(pool_address)\n",
    "\n",
    "# # Create a contract object using the ABI and the pool's address\n",
    "# # pool_contract = self.web3.eth.contract(address=checksum_address, abi=abi)\n",
    "# pool_contract = w3.eth.contract(address=pool_checksum_address, abi=pool_abi)\n",
    "\n",
    "# # Fetching slot0 which contains the current price and other data\n",
    "# slot0 = pool_contract.functions.slot0().call()\n",
    "# current_price = slot0[0]\n",
    "\n",
    "\"\"\"slot0 = [3682675051650787857010074191, -61377, 3046, 7200, 7200, 0, True]\"\"\""
   ]
  },
  {
   "cell_type": "code",
   "execution_count": 11,
   "id": "446b4c9f-a497-4c61-9921-594f477ffd02",
   "metadata": {},
   "outputs": [
    {
     "name": "stdout",
     "output_type": "stream",
     "text": [
      "Relevant tick range: [-61680, -61620, -61560, -61500, -61440, -61380, -61320]\n"
     ]
    }
   ],
   "source": [
    "state_dict['pool']['tick_spacking'] = get_tick_spacing_for_fee(params['port']['pair_fee'])\n",
    "\n",
    "state_dict['pool']['w3'] = w3.eth.contract(address=state_dict['pool']['checksum_address'], abi=state_dict['pool']['abi'])\n",
    "\n",
    "state_dict['pool']['sqrt_price_x96'], state_dict['pool']['current_tick'] = get_current_price_and_tick(state_dict['pool']['w3'])\n",
    "\n",
    "state_dict['pool']['desired_tick_range'] = get_tick_range(state_dict['pool']['current_tick'], params['port']['lp_width'], state_dict['pool']['tick_spacking'])\n",
    "\n",
    "print(\"Relevant tick range:\", list(state_dict['pool']['desired_tick_range']))"
   ]
  },
  {
   "cell_type": "code",
   "execution_count": 23,
   "id": "ee348230-b8ac-4832-b44c-c8b2e15d2fb6",
   "metadata": {},
   "outputs": [
    {
     "data": {
      "text/plain": [
       "0.002096068942693643"
      ]
     },
     "execution_count": 23,
     "metadata": {},
     "output_type": "execute_result"
    }
   ],
   "source": [
    "price_range_low = calculate_price_from_tick(state_dict['pool']['desired_tick_range'][0])\n",
    "price_range_high = calculate_price_from_tick(state_dict['pool']['desired_tick_range'][-1])\n",
    "price_range_low"
   ]
  },
  {
   "cell_type": "code",
   "execution_count": 24,
   "id": "08e94a7d-6227-4400-82cb-37ea86623267",
   "metadata": {},
   "outputs": [
    {
     "data": {
      "text/plain": [
       "0.0021728982131318303"
      ]
     },
     "execution_count": 24,
     "metadata": {},
     "output_type": "execute_result"
    }
   ],
   "source": [
    "price_range_high = calculate_price_from_tick(state_dict['pool']['desired_tick_range'][-1])\n",
    "price_range_high"
   ]
  },
  {
   "cell_type": "code",
   "execution_count": 25,
   "id": "3de9ba0f-fe7b-4d81-b9db-51d3f92906eb",
   "metadata": {},
   "outputs": [
    {
     "data": {
      "text/plain": [
       "0.0021422626177395425"
      ]
     },
     "execution_count": 25,
     "metadata": {},
     "output_type": "execute_result"
    }
   ],
   "source": [
    "calculate_price_from_tick(state_dict['pool']['current_tick'])"
   ]
  },
  {
   "cell_type": "markdown",
   "id": "1b9b73b1-95d7-46c9-ba5a-4c9b185687ca",
   "metadata": {},
   "source": [
    "#### figuring out what proportion of liquidity goes into each asset "
   ]
  },
  {
   "cell_type": "code",
   "execution_count": 31,
   "id": "d5f42096-bd61-44fe-b0a6-33186b5e45b3",
   "metadata": {},
   "outputs": [
    {
     "name": "stdout",
     "output_type": "stream",
     "text": [
      "Amount Base Asset: 21.60546636750988\n",
      "Amount Quote Asset: 0.04628458293794536\n"
     ]
    }
   ],
   "source": [
    "def calculate_liquidity_amounts(state_dict):\n",
    "    \"\"\"\n",
    "    Calculate the amount of base and quote assets to be provided for liquidity.\n",
    "\n",
    "    :param lower_tick: The lower bound of the price range (tick).\n",
    "    :param upper_tick: The upper bound of the price range (tick).\n",
    "    :param current_tick: The current price tick.\n",
    "    :return: A tuple of (amount_base_asset, amount_quote_asset).\n",
    "    \"\"\"\n",
    "    \n",
    "    # get what is needed from the current state \n",
    "    current_tick = state_dict['pool']['current_tick']\n",
    "    lower_tick = state_dict['pool']['desired_tick_range'][0]\n",
    "    upper_tick = state_dict['pool']['desired_tick_range'][-1]\n",
    "\n",
    "    # Convert ticks to prices\n",
    "    lower_price = 1.0001 ** lower_tick\n",
    "    upper_price = 1.0001 ** upper_tick\n",
    "    current_price = 1.0001 ** current_tick\n",
    "\n",
    "    # Assume a fixed amount of liquidity to provide\n",
    "    # This is a simplified assumption; in practice, this would be based on how much liquidity you want to provide\n",
    "    liquidity_amount = 1  # Example fixed liquidity amount\n",
    "\n",
    "    if current_price <= lower_price:\n",
    "        # Current price is at or below the lower bound of the range\n",
    "        # Provide all in quote asset\n",
    "        amount_base_asset = 0\n",
    "        amount_quote_asset = liquidity_amount\n",
    "    elif current_price >= upper_price:\n",
    "        # Current price is at or above the upper bound of the range\n",
    "        # Provide all in base asset\n",
    "        amount_base_asset = liquidity_amount\n",
    "        amount_quote_asset = 0\n",
    "    else:\n",
    "        # Current price is within the range\n",
    "        # Calculate required amounts of base and quote assets\n",
    "        # These calculations are simplified and assume a certain relationship between price and liquidity\n",
    "        amount_base_asset = liquidity_amount / math.sqrt(current_price)\n",
    "        amount_quote_asset = liquidity_amount * math.sqrt(current_price)\n",
    "\n",
    "    return amount_base_asset, amount_quote_asset\n",
    "\n",
    "# Example usage\n",
    "amount_base, amount_quote = calculate_liquidity_amounts(state_dict)\n",
    "print(f\"Amount Base Asset: {amount_base}\")\n",
    "print(f\"Amount Quote Asset: {amount_quote}\")\n"
   ]
  },
  {
   "cell_type": "markdown",
   "id": "61b1aa27-7597-4af9-a5ad-70c3945ccaa6",
   "metadata": {},
   "source": [
    "#### figuring out how much needs to be transacted to wholly enter `current_tick` at the `desired_tick_range`"
   ]
  },
  {
   "cell_type": "code",
   "execution_count": 58,
   "id": "4b3c53fb-62c1-47a2-9945-567b4f6a759c",
   "metadata": {},
   "outputs": [],
   "source": [
    "def figure_update_desired_bags_check_if_transaction_needed(state_dict): \n",
    "    \"\"\"for now this takes a human_price\n",
    "    # ###PAUL TODO: change `human_price` to `quote_price`\n",
    "    \"\"\"\n",
    "    \n",
    "    base_qty = state_dict['bags']['actual']['human_format']['base']\n",
    "    quote_qty = state_dict['bags']['actual']['human_format']['quote']\n",
    "    \n",
    "    ratio_price = calculate_price_from_tick(state_dict['pool']['current_tick']) \n",
    "    base_in_quote = base_qty * ratio_price\n",
    "    total_val_in_quote = base_in_quote + quote_qty\n",
    "\n",
    "    desired_quote = total_val_in_quote/2\n",
    "    desired_base = desired_quote/ratio_price\n",
    "    \n",
    "    state_dict['bags']['desired']['human_format']['base'] = desired_base\n",
    "    state_dict['bags']['desired']['human_format']['quote'] = desired_quote \n",
    "    state_dict['bags']['desired']['wei_format']['base'] = convert_asset_human_amount_to_wei(desired_base, state_dict['bags']['decimal']['base'])\n",
    "    state_dict['bags']['desired']['wei_format']['quote'] = convert_asset_human_amount_to_wei(desired_quote, state_dict['bags']['decimal']['quote'])\n",
    "    \n",
    "    return None "
   ]
  },
  {
   "cell_type": "code",
   "execution_count": 59,
   "id": "784c0f64-7024-43fd-9c09-193a53b8071f",
   "metadata": {},
   "outputs": [],
   "source": [
    "figure_update_desired_bags_check_if_transaction_needed(state_dict)"
   ]
  },
  {
   "cell_type": "code",
   "execution_count": 60,
   "id": "f36322ed-54b1-4719-940f-670f3c7554b9",
   "metadata": {},
   "outputs": [
    {
     "data": {
      "text/plain": [
       "{'wei_format': {'base': 2.463172357092109e+19, 'quote': 5.276762061647821e+16},\n",
       " 'human_format': {'base': 24.631723570921093, 'quote': 0.05276762061647821}}"
      ]
     },
     "execution_count": 60,
     "metadata": {},
     "output_type": "execute_result"
    }
   ],
   "source": [
    "state_dict['bags']['desired']"
   ]
  },
  {
   "cell_type": "code",
   "execution_count": null,
   "id": "296d4879-6632-4f15-a3ef-c2d948cb25dd",
   "metadata": {},
   "outputs": [],
   "source": []
  },
  {
   "cell_type": "code",
   "execution_count": null,
   "id": "2fcd468e-e377-4156-a1b5-2b7ca49fc519",
   "metadata": {},
   "outputs": [],
   "source": []
  },
  {
   "cell_type": "code",
   "execution_count": null,
   "id": "67c4ade5-c246-410d-9ec2-0f9c52e88883",
   "metadata": {},
   "outputs": [],
   "source": []
  },
  {
   "cell_type": "code",
   "execution_count": null,
   "id": "156c8f07-3b0e-4d38-a9f4-28b9ceaa90ab",
   "metadata": {},
   "outputs": [],
   "source": []
  },
  {
   "cell_type": "markdown",
   "id": "cf044dd4-0b6f-42a8-9d8a-fbe10a4eb318",
   "metadata": {},
   "source": [
    "##### figuring which router address to use\n",
    "\n",
    "* manually executing a transaction\n",
    "    * 0xec8b0f7ffe3ae75d7ffab09429e3675bb63503e4 ---- what appears in Rabby\n",
    "    * 0x3fc91a3afd70395cd496c647d5a6cc9d4b2b7fad ---- what arbiscan says this rabby addrss is identical to\n",
    "\n",
    "      \n",
    "* from uniswap documentation https://docs.uniswap.org/contracts/v3/reference/deployments\n",
    "    * SwapRouter: 0xE592427A0AEce92De3Edee1F18E0157C05861564\n",
    "    * SwapRouter02: 0x68b3465833fb72A70ecDF485E0e4C7bD8665Fc45\n",
    "    * UniversalRouter: 0x3fC91A3afd70395Cd496C647d5a6CC9D4B2b7FAD\n",
    " \n"
   ]
  },
  {
   "cell_type": "code",
   "execution_count": null,
   "id": "ea12eb13-6e11-484d-ba0b-07d9ab73c5bb",
   "metadata": {},
   "outputs": [],
   "source": []
  },
  {
   "cell_type": "code",
   "execution_count": null,
   "id": "a4571df8-aadb-4154-9651-4ea546704dbc",
   "metadata": {},
   "outputs": [],
   "source": []
  },
  {
   "cell_type": "markdown",
   "id": "84ac2eda-6779-4544-a149-a5565f6f2bbf",
   "metadata": {},
   "source": [
    "##### way to handle for slippage (suggested by chatGPT"
   ]
  },
  {
   "cell_type": "code",
   "execution_count": null,
   "id": "f93081c1-22b8-4d18-afb9-3cd2fbcf900e",
   "metadata": {},
   "outputs": [],
   "source": [
    "# Example: setting amount_out_min considering a 2% slippage\n",
    "\n",
    "# Fetch the current price of GNS in terms of WETH from an oracle or a DEX interface\n",
    "current_price_gns_per_weth = ...  # Replace with the actual current price\n",
    "\n",
    "# Calculate the expected amount of GNS without slippage\n",
    "expected_amount_out = amount_in * current_price_gns_per_weth\n",
    "\n",
    "# Calculate the minimum amount you're willing to accept, considering slippage\n",
    "slippage_tolerance = 0.02  # 2% slippage\n",
    "amount_out_min = expected_amount_out * (1 - slippage_tolerance)\n",
    "\n",
    "# Convert amount_out_min to wei if it's not already in wei\n",
    "amount_out_min_wei = int(amount_out_min * 10**18)"
   ]
  },
  {
   "cell_type": "code",
   "execution_count": null,
   "id": "f2fa2a37-c924-479a-bd0a-f62c7b15307c",
   "metadata": {},
   "outputs": [],
   "source": []
  },
  {
   "cell_type": "code",
   "execution_count": null,
   "id": "f4e47371-36ce-431f-beed-edacff74c228",
   "metadata": {},
   "outputs": [],
   "source": [
    "from web3 import Web3, Account\n",
    "from eth_account.messages import encode_defunct\n",
    "\n",
    "# Your wallet and private key\n",
    "wallet_address = public_addrss\n",
    "\n",
    "# Uniswap V3 Router Contract Address and ABI (use the appropriate Router ABI)\n",
    "router_contract_address = '0x68b3465833fb72A70ecDF485E0e4C7bD8665Fc45'  # ###PAUL TODO: replace with addr via params \n",
    "router_abi = get_contract_abi(etherscan_api_key, router_contract_address)\n",
    "\n",
    "# Create the Router contract instance\n",
    "router_contract = w3.eth.contract(address=router_contract_address, abi=router_abi)\n",
    "\n",
    "# Prepare the swap parameters (example for swapping WETH for GNS)\n",
    "amount_in = 1000000000000000000  # Amount of WETH in wei you want to swap\n",
    "amount_out_min = 1  # Minimum amount of GNS you want to receive (set considering slippage)\n",
    "weth_address = weth_contract_address\n",
    "gns_address = gns_contract_address\n",
    "deadline = 1742680400  # Timestamp deadline for the transaction (example value)\n",
    "\n",
    "# Swap function call (example, exact function depends on the Router's API)\n",
    "swap_txn = router_contract.functions.swapExactTokensForTokens(\n",
    "    amount_in,\n",
    "    amount_out_min,\n",
    "    [weth_address, gns_address],\n",
    "    wallet_address,\n",
    "    deadline\n",
    ").buildTransaction({\n",
    "    'from': wallet_address,\n",
    "    'gas': 2000000,\n",
    "    'gasPrice': w3.toWei('50', 'gwei'),\n",
    "    'nonce': w3.eth.getTransactionCount(wallet_address),\n",
    "})\n",
    "\n",
    "# Sign the transaction\n",
    "signed_txn = w3.eth.account.sign_transaction(swap_txn, private_key=private_key_str)\n",
    "\n",
    "# Send the transaction\n",
    "tx_hash = w3.eth.sendRawTransaction(signed_txn.rawTransaction)\n",
    "\n",
    "print(f\"Transaction hash: {tx_hash.hex()}\")\n"
   ]
  },
  {
   "cell_type": "code",
   "execution_count": null,
   "id": "c139c3ed-9497-4a08-a07c-e99ab2a82348",
   "metadata": {},
   "outputs": [],
   "source": [
    "price"
   ]
  },
  {
   "cell_type": "code",
   "execution_count": null,
   "id": "bde65da2-af91-4eba-aaf0-5b7441db1c6d",
   "metadata": {},
   "outputs": [],
   "source": [
    "# get_wallet_key(wallet=3)"
   ]
  },
  {
   "cell_type": "markdown",
   "id": "5ab3c985-7bf8-476a-acbb-20763d46f6ca",
   "metadata": {},
   "source": [
    "# working liquidity looter class that gets near soruce "
   ]
  },
  {
   "cell_type": "code",
   "execution_count": null,
   "id": "8819e5d0-b913-4648-b159-96ef66fc9790",
   "metadata": {},
   "outputs": [],
   "source": [
    "from web3 import Web3\n",
    "import json\n",
    "\n",
    "class LiquidityLooter:\n",
    "    def __init__(self, rpc_url):\n",
    "        self.web3 = Web3(Web3.HTTPProvider(rpc_url))\n",
    "        if self.web3.is_connected():\n",
    "            print(\"Connected to Ethereum blockchain.\")\n",
    "        else:\n",
    "            raise Exception(\"Unable to connect to Ethereum blockchain.\")\n",
    "\n",
    "    def fetch_current_pool_price_range(self, pool_address, abi):\n",
    "        # Convert the pool address to checksum format\n",
    "        checksum_address = Web3.to_checksum_address(pool_address)\n",
    "\n",
    "        # Create a contract object using the ABI and the pool's address\n",
    "        pool_contract = self.web3.eth.contract(address=checksum_address, abi=abi)\n",
    "\n",
    "        try:\n",
    "            # Fetching slot0 which contains the current price and other data\n",
    "            slot0 = pool_contract.functions.slot0().call()\n",
    "            current_price = slot0[0]\n",
    "\n",
    "            # Convert current price to a more readable format if necessary\n",
    "            # This depends on how prices are represented in the contract\n",
    "\n",
    "            # Return the current price (this can be expanded to include more data)\n",
    "            return {\"current_price\": current_price}\n",
    "\n",
    "        except Exception as e:\n",
    "            print(f\"An error occurred: {e}\")\n",
    "            return None\n",
    "\n",
    "# Example usage\n",
    "rpc_url = \"https://arb1.arbitrum.io/rpc\"  # Arbitrum RPC URL\n",
    "loot_liquidity = LiquidityLooter(rpc_url)\n",
    "\n",
    "# The contract address and ABI for the Uniswap v3 pool\n",
    "pool_address = \"0xc91b7b39bbb2c733f0e7459348fd0c80259c8471\"\n",
    "# abi = [...]  # Replace with the ABI provided\n",
    "\n",
    "# Fetching the pool price range for the specific pool\n",
    "price_range = loot_liquidity.fetch_current_pool_price_range(pool_address, pool_abi)\n",
    "print(f\"Price Range: {price_range}\")\n"
   ]
  },
  {
   "cell_type": "code",
   "execution_count": null,
   "id": "3615ee7a-274f-41bf-bdea-86c18b600c79",
   "metadata": {},
   "outputs": [],
   "source": [
    "loot_liquidity"
   ]
  },
  {
   "cell_type": "code",
   "execution_count": null,
   "id": "01db25a9-97c1-4aeb-a7b4-8fd638f9a146",
   "metadata": {},
   "outputs": [],
   "source": [
    "price_range"
   ]
  },
  {
   "cell_type": "code",
   "execution_count": null,
   "id": "dbcf845f-c1fe-4583-959a-73187c415ae4",
   "metadata": {},
   "outputs": [],
   "source": [
    "sqrtPriceX96 = 3577156806314548018171497387\n",
    "price_ratio = (sqrtPriceX96 / 2**96) ** 2\n",
    "\n",
    "# If the tokens have different decimals, adjust the price ratio.\n",
    "# For example, if token0 has 18 decimals and token1 has 6 decimals:\n",
    "# price_ratio = price_ratio / (10**(18-6))\n",
    "\n",
    "print(\"Price Ratio:\", price_ratio)\n"
   ]
  },
  {
   "cell_type": "code",
   "execution_count": null,
   "id": "5e77f572-8dd5-4222-9470-8b26c3ff1568",
   "metadata": {},
   "outputs": [],
   "source": []
  },
  {
   "cell_type": "code",
   "execution_count": null,
   "id": "a09cf1c5-36ac-4b92-a24d-3fae2b39faa6",
   "metadata": {},
   "outputs": [],
   "source": []
  },
  {
   "cell_type": "code",
   "execution_count": null,
   "id": "d1ee6ff6-0e55-4725-bfe9-5f2990dde161",
   "metadata": {},
   "outputs": [],
   "source": []
  },
  {
   "cell_type": "markdown",
   "id": "b4e3e1be-607c-4c35-aa8d-c82d573e0e8b",
   "metadata": {},
   "source": [
    "* high level object needed \n",
    "    * `params`\n",
    "    * `state_dict` \n",
    "* # work flow of this process\n",
    "    * leave 0.01 ETH for gas. *I will just watch and refill manually for now* \n",
    "    * consider all funds that are note 0.01 ETH \"for sale\" for the liquidity pool\n",
    "    * The strategy is as follows.\n",
    "        * `lp_width` width in % of price for ceiling and floor price on LP\n",
    "        * `p_rebalance1` proportion of `lp_width` needed to travel in either dimension to do an automatic new LP NFT\n",
    "        * these live in config \n",
    "    * use uniswap price, calculate how much needed to trade on uniswap\n",
    "    * "
   ]
  },
  {
   "cell_type": "code",
   "execution_count": null,
   "id": "4b1f7341-4ddc-49d8-b30e-4c9e96eaf2e1",
   "metadata": {},
   "outputs": [],
   "source": []
  },
  {
   "cell_type": "code",
   "execution_count": null,
   "id": "7f337a79-6498-486b-a0c3-dc6e317703ed",
   "metadata": {},
   "outputs": [],
   "source": []
  }
 ],
 "metadata": {
  "kernelspec": {
   "display_name": "Python 3 (ipykernel)",
   "language": "python",
   "name": "python3"
  },
  "language_info": {
   "codemirror_mode": {
    "name": "ipython",
    "version": 3
   },
   "file_extension": ".py",
   "mimetype": "text/x-python",
   "name": "python",
   "nbconvert_exporter": "python",
   "pygments_lexer": "ipython3",
   "version": "3.10.12"
  }
 },
 "nbformat": 4,
 "nbformat_minor": 5
}
