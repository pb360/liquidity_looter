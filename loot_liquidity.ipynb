{
 "cells": [
  {
   "cell_type": "markdown",
   "id": "ce19bd2a-6375-4385-a4f5-22ee79c642bf",
   "metadata": {},
   "source": [
    "<div id='loot_liquidity_outline'> </div>\n",
    "\n",
    "\n",
    "* # outline\n",
    "    * imports\n",
    "    * setup web3 module\n",
    "    * ```LootLiquidity``` class definition\n",
    "        * getting price\n",
    "        * compare to current pool,\n",
    "            * if more than  \n",
    "\n",
    "[back to top](#loot_liquidity_outline) "
   ]
  },
  {
   "cell_type": "code",
   "execution_count": null,
   "id": "dd9cab78-1109-4ee9-897c-0d790149bb07",
   "metadata": {},
   "outputs": [],
   "source": [
    "from web3 import Web3, EthereumTesterProvider\n"
   ]
  },
  {
   "cell_type": "code",
   "execution_count": null,
   "id": "f94243df-1105-4d39-ae6c-bdd8911f4cc3",
   "metadata": {},
   "outputs": [],
   "source": [
    "import json\n",
    "from web3 import Web3\n",
    "\n",
    "\n",
    "infura_url = f\"https://eth.llamarpc.com\"\n",
    "web3 = Web3(Web3.HTTPProvider(infura_url))"
   ]
  },
  {
   "cell_type": "code",
   "execution_count": null,
   "id": "780a1ea1-852e-4f9a-bd7a-d608d9da7eac",
   "metadata": {},
   "outputs": [],
   "source": [
    "import requests\n",
    "import json\n",
    "\n",
    "def get_contract_abi(etherscan_api_key, contract_address):\n",
    "    url = f\"https://api.etherscan.io/api?module=contract&action=getabi&address={contract_address}&apikey={etherscan_api_key}\"\n",
    "    response = requests.get(url)\n",
    "    if response.status_code == 200:\n",
    "        data = response.json()\n",
    "        if data[\"status\"] == \"1\":\n",
    "            return json.loads(data[\"result\"])\n",
    "        else:\n",
    "            raise Exception(\"Error fetching ABI: \" + data[\"message\"])\n",
    "    else:\n",
    "        raise Exception(\"Error fetching ABI: HTTP \" + str(response.status_code))\n",
    "\n",
    "# Example usage\n",
    "etherscan_api_key = \"YOUR_ETHERSCAN_API_KEY\"  # Replace with your Etherscan API key\n",
    "contract_address = \"YOUR_CONTRACT_ADDRESS\"   # Replace with the contract address\n",
    "try:\n",
    "    abi = get_contract_abi(etherscan_api_key, contract_address)\n",
    "    print(\"ABI fetched successfully.\")\n",
    "except Exception as e:\n",
    "    print(str(e))\n"
   ]
  },
  {
   "cell_type": "code",
   "execution_count": null,
   "id": "f9164530-25e8-4e0e-950e-83e1fa61ca6b",
   "metadata": {},
   "outputs": [],
   "source": [
    "from web3 import Web3\n",
    "\n",
    "class LootLiquidity:\n",
    "    def __init__(self, rpc_url):\n",
    "        self.rpc_url = rpc_url\n",
    "        self.web3 = Web3(Web3.HTTPProvider(self.rpc_url))\n",
    "        if self.web3.is_connected():\n",
    "            print(\"Connected to Ethereum blockchain.\")\n",
    "        else:\n",
    "            print(\"Failed to connect to Ethereum blockchain.\")\n",
    "            raise Exception(\"Unable to connect to Ethereum blockchain.\")\n",
    "\n",
    "    def fetch_current_pool_price_range(self, pool_address):\n",
    "        # Load the ABI for the Uniswap v3 pool contract\n",
    "        uniswap_v3_pool_abi = json.loads(\"YOUR_ABI_HERE\")  # Replace with actual ABI\n",
    "\n",
    "        # Create a contract object using the ABI and the pool's address\n",
    "        pool_contract = self.web3.eth.contract(address=pool_address, abi=uniswap_v3_pool_abi)\n",
    "\n",
    "        try:\n",
    "            # Fetching slot0 which contains the current price and other data\n",
    "            slot0 = pool_contract.functions.slot0().call()\n",
    "            current_price = slot0[0]\n",
    "\n",
    "            # Convert current price to a more readable format if necessary\n",
    "            # This depends on how prices are represented in the contract\n",
    "\n",
    "            # Return the current price (this can be expanded to include more data)\n",
    "            return {\"current_price\": current_price}\n",
    "\n",
    "        except Exception as e:\n",
    "            print(f\"An error occurred: {e}\")\n",
    "            return None\n",
    "        \n",
    "\n",
    "# Example usage\n",
    "rpc_url = f\"https://eth.llamarpc.com\"\n",
    "loot_liquidity = LootLiquidity(rpc_url)\n",
    "\n",
    "# Fetching the pool price range for a specific pool\n",
    "pool_address = \"0xc91b7b39bbb2c733f0e7459348fd0c80259c8471\"  # Replace with the actual pool contract address\n",
    "price_range = loot_liquidity.fetch_current_pool_price_range(pool_address)\n",
    "print(f\"Price Range: {price_range}\")\n",
    "\n",
    "\n",
    "\n",
    "\n",
    "\n",
    "\n",
    "# GNS / ETH  %0.3 ---> https://info.uniswap.org/#/arbitrum/pools/0xc91b7b39bbb2c733f0e7459348fd0c80259c8471\n",
    "# GNS / USDC %0.3 ---> https://info.uniswap.org/#/arbitrum/pools/0xaa9e653252ed9e87a9bd545b974efbfb2f389f3f"
   ]
  },
  {
   "cell_type": "code",
   "execution_count": null,
   "id": "0eeb1be1-b541-4571-a77b-4537fe5a52ee",
   "metadata": {},
   "outputs": [],
   "source": []
  }
 ],
 "metadata": {
  "kernelspec": {
   "display_name": "Python 3 (ipykernel)",
   "language": "python",
   "name": "python3"
  },
  "language_info": {
   "codemirror_mode": {
    "name": "ipython",
    "version": 3
   },
   "file_extension": ".py",
   "mimetype": "text/x-python",
   "name": "python",
   "nbconvert_exporter": "python",
   "pygments_lexer": "ipython3",
   "version": "3.10.12"
  }
 },
 "nbformat": 4,
 "nbformat_minor": 5
}
